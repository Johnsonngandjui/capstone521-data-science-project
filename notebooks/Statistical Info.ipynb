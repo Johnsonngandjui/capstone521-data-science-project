{
 "cells": [
  {
   "cell_type": "markdown",
   "id": "75e1325e",
   "metadata": {},
   "source": [
    "# File type and description(statistical Info)\n",
    "\n",
    "My data consist of 15 columns and 44269 rows\n",
    "All game scores of the big five European soccer leagues (England, Germany, Spain, Italy and France) for the 1995/96 to 2019/20 seasons.\n",
    "\n",
    "# why?\n",
    "\n",
    "+ Analyse the evolution of football in the 5 major leagues over the last 25 years.\n",
    "+ Prepare all kinds of dashboards on the games, seasons, teams…etc.\n",
    "+ Analyze the differences between countries in terms of league level.\n",
    "+ Identify patterns, schemes in the data"
   ]
  },
  {
   "cell_type": "code",
   "execution_count": 1,
   "id": "cd2fdcde",
   "metadata": {},
   "outputs": [],
   "source": [
    "import pandas as pd"
   ]
  },
  {
   "cell_type": "code",
   "execution_count": 2,
   "id": "2eb90c3a",
   "metadata": {},
   "outputs": [],
   "source": [
    "data= data = pd.read_csv('D:\\Senior\\Capstone\\data-science-enviroment\\data\\BIG FIVE 1995-2019.csv')"
   ]
  },
  {
   "cell_type": "code",
   "execution_count": 21,
   "id": "7416f4de",
   "metadata": {},
   "outputs": [
    {
     "name": "stdout",
     "output_type": "stream",
     "text": [
      "(44269, 15)\n"
     ]
    }
   ],
   "source": [
    "#number of rows, columns\n",
    "print(data.shape)"
   ]
  },
  {
   "cell_type": "code",
   "execution_count": 17,
   "id": "23d8256b",
   "metadata": {},
   "outputs": [
    {
     "name": "stdout",
     "output_type": "stream",
     "text": [
      "15\n"
     ]
    }
   ],
   "source": [
    "#number of colums \n",
    "print(len(data.columns))"
   ]
  },
  {
   "cell_type": "code",
   "execution_count": 10,
   "id": "5cfb92b8",
   "metadata": {},
   "outputs": [
    {
     "data": {
      "text/html": [
       "<div>\n",
       "<style scoped>\n",
       "    .dataframe tbody tr th:only-of-type {\n",
       "        vertical-align: middle;\n",
       "    }\n",
       "\n",
       "    .dataframe tbody tr th {\n",
       "        vertical-align: top;\n",
       "    }\n",
       "\n",
       "    .dataframe thead th {\n",
       "        text-align: right;\n",
       "    }\n",
       "</style>\n",
       "<table border=\"1\" class=\"dataframe\">\n",
       "  <thead>\n",
       "    <tr style=\"text-align: right;\">\n",
       "      <th></th>\n",
       "      <th>Round</th>\n",
       "      <th>Date</th>\n",
       "      <th>Team 1</th>\n",
       "      <th>FT</th>\n",
       "      <th>HT</th>\n",
       "      <th>Team 2</th>\n",
       "      <th>Year</th>\n",
       "      <th>Country</th>\n",
       "      <th>FT Team 1</th>\n",
       "      <th>FT Team 2</th>\n",
       "      <th>HT Team 1</th>\n",
       "      <th>HT Team 2</th>\n",
       "      <th>GGD</th>\n",
       "      <th>Team 1 (pts)</th>\n",
       "      <th>Team 2 (pts)</th>\n",
       "    </tr>\n",
       "  </thead>\n",
       "  <tbody>\n",
       "    <tr>\n",
       "      <th>0</th>\n",
       "      <td>1</td>\n",
       "      <td>(Sat) 19 Aug 1995 (W33)</td>\n",
       "      <td>Aston Villa FC</td>\n",
       "      <td>3-1</td>\n",
       "      <td>3-0</td>\n",
       "      <td>Manchester United FC</td>\n",
       "      <td>1995</td>\n",
       "      <td>ENG</td>\n",
       "      <td>3</td>\n",
       "      <td>1</td>\n",
       "      <td>3</td>\n",
       "      <td>0</td>\n",
       "      <td>2</td>\n",
       "      <td>3</td>\n",
       "      <td>0</td>\n",
       "    </tr>\n",
       "    <tr>\n",
       "      <th>1</th>\n",
       "      <td>1</td>\n",
       "      <td>(Sat) 19 Aug 1995 (W33)</td>\n",
       "      <td>Blackburn Rovers FC</td>\n",
       "      <td>1-0</td>\n",
       "      <td>1-0</td>\n",
       "      <td>Queens Park Rangers FC</td>\n",
       "      <td>1995</td>\n",
       "      <td>ENG</td>\n",
       "      <td>1</td>\n",
       "      <td>0</td>\n",
       "      <td>1</td>\n",
       "      <td>0</td>\n",
       "      <td>1</td>\n",
       "      <td>3</td>\n",
       "      <td>0</td>\n",
       "    </tr>\n",
       "    <tr>\n",
       "      <th>2</th>\n",
       "      <td>1</td>\n",
       "      <td>(Sat) 19 Aug 1995 (W33)</td>\n",
       "      <td>Chelsea FC</td>\n",
       "      <td>0-0</td>\n",
       "      <td>0-0</td>\n",
       "      <td>Everton FC</td>\n",
       "      <td>1995</td>\n",
       "      <td>ENG</td>\n",
       "      <td>0</td>\n",
       "      <td>0</td>\n",
       "      <td>0</td>\n",
       "      <td>0</td>\n",
       "      <td>0</td>\n",
       "      <td>1</td>\n",
       "      <td>1</td>\n",
       "    </tr>\n",
       "    <tr>\n",
       "      <th>3</th>\n",
       "      <td>1</td>\n",
       "      <td>(Sat) 19 Aug 1995 (W33)</td>\n",
       "      <td>Liverpool FC</td>\n",
       "      <td>1-0</td>\n",
       "      <td>0-0</td>\n",
       "      <td>Sheffield Wednesday FC</td>\n",
       "      <td>1995</td>\n",
       "      <td>ENG</td>\n",
       "      <td>1</td>\n",
       "      <td>0</td>\n",
       "      <td>0</td>\n",
       "      <td>0</td>\n",
       "      <td>1</td>\n",
       "      <td>3</td>\n",
       "      <td>0</td>\n",
       "    </tr>\n",
       "    <tr>\n",
       "      <th>4</th>\n",
       "      <td>1</td>\n",
       "      <td>(Sat) 19 Aug 1995 (W33)</td>\n",
       "      <td>Manchester City FC</td>\n",
       "      <td>1-1</td>\n",
       "      <td>0-1</td>\n",
       "      <td>Tottenham Hotspur FC</td>\n",
       "      <td>1995</td>\n",
       "      <td>ENG</td>\n",
       "      <td>1</td>\n",
       "      <td>1</td>\n",
       "      <td>0</td>\n",
       "      <td>1</td>\n",
       "      <td>0</td>\n",
       "      <td>1</td>\n",
       "      <td>1</td>\n",
       "    </tr>\n",
       "  </tbody>\n",
       "</table>\n",
       "</div>"
      ],
      "text/plain": [
       "   Round                     Date                Team 1   FT   HT  \\\n",
       "0      1  (Sat) 19 Aug 1995 (W33)       Aston Villa FC   3-1  3-0   \n",
       "1      1  (Sat) 19 Aug 1995 (W33)  Blackburn Rovers FC   1-0  1-0   \n",
       "2      1  (Sat) 19 Aug 1995 (W33)           Chelsea FC   0-0  0-0   \n",
       "3      1  (Sat) 19 Aug 1995 (W33)         Liverpool FC   1-0  0-0   \n",
       "4      1  (Sat) 19 Aug 1995 (W33)   Manchester City FC   1-1  0-1   \n",
       "\n",
       "                    Team 2  Year Country  FT Team 1  FT Team 2  HT Team 1  \\\n",
       "0    Manchester United FC   1995     ENG          3          1          3   \n",
       "1  Queens Park Rangers FC   1995     ENG          1          0          1   \n",
       "2              Everton FC   1995     ENG          0          0          0   \n",
       "3  Sheffield Wednesday FC   1995     ENG          1          0          0   \n",
       "4    Tottenham Hotspur FC   1995     ENG          1          1          0   \n",
       "\n",
       "   HT Team 2  GGD  Team 1 (pts)  Team 2 (pts)  \n",
       "0          0    2             3             0  \n",
       "1          0    1             3             0  \n",
       "2          0    0             1             1  \n",
       "3          0    1             3             0  \n",
       "4          1    0             1             1  "
      ]
     },
     "execution_count": 10,
     "metadata": {},
     "output_type": "execute_result"
    }
   ],
   "source": [
    "data.head()"
   ]
  },
  {
   "cell_type": "code",
   "execution_count": 12,
   "id": "221d1db6",
   "metadata": {
    "scrolled": false
   },
   "outputs": [
    {
     "data": {
      "text/html": [
       "<div>\n",
       "<style scoped>\n",
       "    .dataframe tbody tr th:only-of-type {\n",
       "        vertical-align: middle;\n",
       "    }\n",
       "\n",
       "    .dataframe tbody tr th {\n",
       "        vertical-align: top;\n",
       "    }\n",
       "\n",
       "    .dataframe thead th {\n",
       "        text-align: right;\n",
       "    }\n",
       "</style>\n",
       "<table border=\"1\" class=\"dataframe\">\n",
       "  <thead>\n",
       "    <tr style=\"text-align: right;\">\n",
       "      <th></th>\n",
       "      <th>Round</th>\n",
       "      <th>Year</th>\n",
       "      <th>FT Team 1</th>\n",
       "      <th>FT Team 2</th>\n",
       "      <th>HT Team 1</th>\n",
       "      <th>HT Team 2</th>\n",
       "      <th>GGD</th>\n",
       "      <th>Team 1 (pts)</th>\n",
       "      <th>Team 2 (pts)</th>\n",
       "    </tr>\n",
       "  </thead>\n",
       "  <tbody>\n",
       "    <tr>\n",
       "      <th>count</th>\n",
       "      <td>44269.000000</td>\n",
       "      <td>44269.000000</td>\n",
       "      <td>44269.000000</td>\n",
       "      <td>44269.000000</td>\n",
       "      <td>44269.000000</td>\n",
       "      <td>44269.000000</td>\n",
       "      <td>44269.000000</td>\n",
       "      <td>44269.000000</td>\n",
       "      <td>44269.000000</td>\n",
       "    </tr>\n",
       "    <tr>\n",
       "      <th>mean</th>\n",
       "      <td>18.852154</td>\n",
       "      <td>2007.006641</td>\n",
       "      <td>1.539271</td>\n",
       "      <td>1.112065</td>\n",
       "      <td>0.680137</td>\n",
       "      <td>0.477987</td>\n",
       "      <td>1.319388</td>\n",
       "      <td>1.669498</td>\n",
       "      <td>1.065960</td>\n",
       "    </tr>\n",
       "    <tr>\n",
       "      <th>std</th>\n",
       "      <td>10.694362</td>\n",
       "      <td>7.130475</td>\n",
       "      <td>1.282207</td>\n",
       "      <td>1.109638</td>\n",
       "      <td>0.824792</td>\n",
       "      <td>0.695605</td>\n",
       "      <td>1.187047</td>\n",
       "      <td>1.300856</td>\n",
       "      <td>1.237966</td>\n",
       "    </tr>\n",
       "    <tr>\n",
       "      <th>min</th>\n",
       "      <td>1.000000</td>\n",
       "      <td>1995.000000</td>\n",
       "      <td>0.000000</td>\n",
       "      <td>0.000000</td>\n",
       "      <td>0.000000</td>\n",
       "      <td>0.000000</td>\n",
       "      <td>0.000000</td>\n",
       "      <td>0.000000</td>\n",
       "      <td>0.000000</td>\n",
       "    </tr>\n",
       "    <tr>\n",
       "      <th>25%</th>\n",
       "      <td>10.000000</td>\n",
       "      <td>2001.000000</td>\n",
       "      <td>1.000000</td>\n",
       "      <td>0.000000</td>\n",
       "      <td>0.000000</td>\n",
       "      <td>0.000000</td>\n",
       "      <td>0.000000</td>\n",
       "      <td>0.000000</td>\n",
       "      <td>0.000000</td>\n",
       "    </tr>\n",
       "    <tr>\n",
       "      <th>50%</th>\n",
       "      <td>19.000000</td>\n",
       "      <td>2007.000000</td>\n",
       "      <td>1.000000</td>\n",
       "      <td>1.000000</td>\n",
       "      <td>0.000000</td>\n",
       "      <td>0.000000</td>\n",
       "      <td>1.000000</td>\n",
       "      <td>1.000000</td>\n",
       "      <td>1.000000</td>\n",
       "    </tr>\n",
       "    <tr>\n",
       "      <th>75%</th>\n",
       "      <td>28.000000</td>\n",
       "      <td>2013.000000</td>\n",
       "      <td>2.000000</td>\n",
       "      <td>2.000000</td>\n",
       "      <td>1.000000</td>\n",
       "      <td>1.000000</td>\n",
       "      <td>2.000000</td>\n",
       "      <td>3.000000</td>\n",
       "      <td>3.000000</td>\n",
       "    </tr>\n",
       "    <tr>\n",
       "      <th>max</th>\n",
       "      <td>42.000000</td>\n",
       "      <td>2019.000000</td>\n",
       "      <td>10.000000</td>\n",
       "      <td>9.000000</td>\n",
       "      <td>7.000000</td>\n",
       "      <td>6.000000</td>\n",
       "      <td>9.000000</td>\n",
       "      <td>3.000000</td>\n",
       "      <td>3.000000</td>\n",
       "    </tr>\n",
       "  </tbody>\n",
       "</table>\n",
       "</div>"
      ],
      "text/plain": [
       "              Round          Year     FT Team 1     FT Team 2     HT Team 1  \\\n",
       "count  44269.000000  44269.000000  44269.000000  44269.000000  44269.000000   \n",
       "mean      18.852154   2007.006641      1.539271      1.112065      0.680137   \n",
       "std       10.694362      7.130475      1.282207      1.109638      0.824792   \n",
       "min        1.000000   1995.000000      0.000000      0.000000      0.000000   \n",
       "25%       10.000000   2001.000000      1.000000      0.000000      0.000000   \n",
       "50%       19.000000   2007.000000      1.000000      1.000000      0.000000   \n",
       "75%       28.000000   2013.000000      2.000000      2.000000      1.000000   \n",
       "max       42.000000   2019.000000     10.000000      9.000000      7.000000   \n",
       "\n",
       "          HT Team 2           GGD  Team 1 (pts)  Team 2 (pts)  \n",
       "count  44269.000000  44269.000000  44269.000000  44269.000000  \n",
       "mean       0.477987      1.319388      1.669498      1.065960  \n",
       "std        0.695605      1.187047      1.300856      1.237966  \n",
       "min        0.000000      0.000000      0.000000      0.000000  \n",
       "25%        0.000000      0.000000      0.000000      0.000000  \n",
       "50%        0.000000      1.000000      1.000000      1.000000  \n",
       "75%        1.000000      2.000000      3.000000      3.000000  \n",
       "max        6.000000      9.000000      3.000000      3.000000  "
      ]
     },
     "execution_count": 12,
     "metadata": {},
     "output_type": "execute_result"
    }
   ],
   "source": [
    "data.describe()"
   ]
  },
  {
   "cell_type": "code",
   "execution_count": 15,
   "id": "129a0ca6",
   "metadata": {
    "scrolled": true
   },
   "outputs": [
    {
     "data": {
      "text/plain": [
       "['Round',\n",
       " 'Date',\n",
       " 'Team 1',\n",
       " 'FT',\n",
       " 'HT',\n",
       " 'Team 2',\n",
       " 'Year',\n",
       " 'Country',\n",
       " 'FT Team 1',\n",
       " 'FT Team 2',\n",
       " 'HT Team 1',\n",
       " 'HT Team 2',\n",
       " 'GGD',\n",
       " 'Team 1 (pts)',\n",
       " 'Team 2 (pts)']"
      ]
     },
     "execution_count": 15,
     "metadata": {},
     "output_type": "execute_result"
    }
   ],
   "source": [
    "#list of colums names\n",
    "list(data.columns)"
   ]
  },
  {
   "cell_type": "code",
   "execution_count": null,
   "id": "635a38bf",
   "metadata": {},
   "outputs": [],
   "source": []
  },
  {
   "cell_type": "code",
   "execution_count": 3,
   "id": "70203361",
   "metadata": {
    "scrolled": true
   },
   "outputs": [
    {
     "ename": "NameError",
     "evalue": "name 'data' is not defined",
     "output_type": "error",
     "traceback": [
      "\u001b[1;31m------------------------------------------------------------------------\u001b[0m",
      "\u001b[1;31mNameError\u001b[0m                              Traceback (most recent call last)",
      "\u001b[1;32m~\\AppData\\Local\\Temp/ipykernel_17300/2780379808.py\u001b[0m in \u001b[0;36m<module>\u001b[1;34m\u001b[0m\n\u001b[0;32m      1\u001b[0m \u001b[1;31m#list of colums names\u001b[0m\u001b[1;33m\u001b[0m\u001b[1;33m\u001b[0m\u001b[1;33m\u001b[0m\u001b[0m\n\u001b[1;32m----> 2\u001b[1;33m \u001b[0mlist\u001b[0m\u001b[1;33m(\u001b[0m\u001b[0mdata\u001b[0m\u001b[1;33m.\u001b[0m\u001b[0msize\u001b[0m\u001b[1;33m)\u001b[0m\u001b[1;33m\u001b[0m\u001b[1;33m\u001b[0m\u001b[0m\n\u001b[0m",
      "\u001b[1;31mNameError\u001b[0m: name 'data' is not defined"
     ]
    }
   ],
   "source": [
    "#list of colums names\n",
    "list(data.size)"
   ]
  },
  {
   "cell_type": "code",
   "execution_count": null,
   "id": "855f9547",
   "metadata": {},
   "outputs": [],
   "source": []
  }
 ],
 "metadata": {
  "kernelspec": {
   "display_name": "Python 3 (ipykernel)",
   "language": "python",
   "name": "python3"
  },
  "language_info": {
   "codemirror_mode": {
    "name": "ipython",
    "version": 3
   },
   "file_extension": ".py",
   "mimetype": "text/x-python",
   "name": "python",
   "nbconvert_exporter": "python",
   "pygments_lexer": "ipython3",
   "version": "3.9.6"
  }
 },
 "nbformat": 4,
 "nbformat_minor": 5
}
