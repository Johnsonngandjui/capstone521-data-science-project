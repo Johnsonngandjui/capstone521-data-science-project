{
 "cells": [
  {
   "cell_type": "markdown",
   "metadata": {},
   "source": [
    "### ML with Pyspark\n",
    "+ classify/predict winning team \n",
    "\n",
    "### Data Source\n",
    "+ https://www.kaggle.com/hikne707/big-five-european-soccer-leagues "
   ]
  },
  {
   "cell_type": "code",
   "execution_count": 1,
   "metadata": {},
   "outputs": [],
   "source": [
    "# Load our Packages\n",
    "from pyspark import SparkContext"
   ]
  },
  {
   "cell_type": "code",
   "execution_count": null,
   "metadata": {},
   "outputs": [],
   "source": [
    "#do not want it to use all the cores on my machine so only specified 2\n",
    "sc = SparkContext(master='local[2]')"
   ]
  },
  {
   "cell_type": "code",
   "execution_count": 3,
   "metadata": {},
   "outputs": [
    {
     "data": {
      "text/html": [
       "\n",
       "        <div>\n",
       "            <p><b>SparkContext</b></p>\n",
       "\n",
       "            <p><a href=\"http://10.196.245.244:4040\">Spark UI</a></p>\n",
       "\n",
       "            <dl>\n",
       "              <dt>Version</dt>\n",
       "                <dd><code>v3.1.1</code></dd>\n",
       "              <dt>Master</dt>\n",
       "                <dd><code>local[*]</code></dd>\n",
       "              <dt>AppName</dt>\n",
       "                <dd><code>PySparkShell</code></dd>\n",
       "            </dl>\n",
       "        </div>\n",
       "        "
      ],
      "text/plain": [
       "<SparkContext master=local[*] appName=PySparkShell>"
      ]
     },
     "execution_count": 3,
     "metadata": {},
     "output_type": "execute_result"
    }
   ],
   "source": [
    "sc"
   ]
  },
  {
   "cell_type": "code",
   "execution_count": 4,
   "metadata": {},
   "outputs": [],
   "source": [
    "from pyspark.sql import SparkSession"
   ]
  },
  {
   "cell_type": "code",
   "execution_count": 5,
   "metadata": {},
   "outputs": [],
   "source": [
    "spark = SparkSession.builder.appName(\"Spark_Spain\").getOrCreate()"
   ]
  },
  {
   "cell_type": "markdown",
   "metadata": {},
   "source": [
    "### workflow\n",
    "* Data Prep\n",
    "+ Feature Engineering\n",
    "+ Build Model \n",
    "+ Evaluate "
   ]
  },
  {
   "cell_type": "markdown",
   "metadata": {},
   "source": [
    "# Task \n",
    "+ predict what team will win in the spain league/country based on parameters\n",
    "+ multi-classification problem win, lose, or tie"
   ]
  },
  {
   "cell_type": "code",
   "execution_count": 41,
   "metadata": {},
   "outputs": [],
   "source": [
    "# load our dataset other data set that can be used ...\n",
    "# France_league_V1.csv\n",
    "# Spain_league_V1.csv\n",
    "# Germany_league_V1.csv\n",
    "# Italy_league_V1.csv\n",
    "df = spark.read.csv(\"D:/Senior/Capstone/data-science-enviroment/data/Leagues/England_league_V1.csv\", header=True, inferSchema=True)"
   ]
  },
  {
   "cell_type": "code",
   "execution_count": 42,
   "metadata": {
    "scrolled": true
   },
   "outputs": [
    {
     "name": "stdout",
     "output_type": "stream",
     "text": [
      "+-----+--------------------+------+------+----+-------+---------+---------+---------+---------+---+------------+------------+-------+\n",
      "|Round|                Date|Team_1|Team_2|Year|Country|FT_Team_1|FT_Team_2|HT_Team_1|HT_Team_2|GGD|Team_1_(pts)|Team_2_(pts)|Outcome|\n",
      "+-----+--------------------+------+------+----+-------+---------+---------+---------+---------+---+------------+------------+-------+\n",
      "|    1|(Sat) 19 Aug 1995...|    28|   130|1995|      0|        3|        1|        3|        0|  2|           3|           0|      1|\n",
      "|    1|(Sat) 19 Aug 1995...|    38|   150|1995|      0|        1|        0|        1|        0|  1|           3|           0|      1|\n",
      "|    1|(Sat) 19 Aug 1995...|    63|    80|1995|      0|        0|        0|        0|        0|  0|           1|           1|      3|\n",
      "|    1|(Sat) 19 Aug 1995...|   127|   184|1995|      0|        1|        0|        0|        0|  1|           3|           0|      1|\n",
      "|    1|(Sat) 19 Aug 1995...|   129|   198|1995|      0|        1|        1|        0|        1|  0|           1|           1|      3|\n",
      "|    1|(Sat) 19 Aug 1995...|   135|    65|1995|      0|        3|        0|        1|        0|  3|           3|           0|      1|\n",
      "|    1|(Sat) 19 Aug 1995...|   185|   137|1995|      0|        3|        4|        1|        3|  1|           0|           3|      2|\n",
      "|    1|(Sat) 19 Aug 1995...|   220|   123|1995|      0|        1|        2|        1|        0|  1|           0|           3|      2|\n",
      "|    1|(Sat) 19 Aug 1995...|   222|    41|1995|      0|        3|        2|        2|        2|  1|           3|           0|      1|\n",
      "|    1|(Sun) 20 Aug 1995...|    26|   131|1995|      0|        1|        1|        1|        1|  0|           1|           1|      3|\n",
      "|    2|(Mon) 21 Aug 1995...|   123|   127|1995|      0|        1|        0|        0|        0|  1|           3|           0|      1|\n",
      "|    2|(Tue) 22 Aug 1995...|    41|   135|1995|      0|        1|        3|        0|        1|  2|           0|           3|      2|\n",
      "|    2|(Wed) 23 Aug 1995...|    65|   129|1995|      0|        2|        1|        1|        0|  1|           3|           0|      1|\n",
      "|    2|(Wed) 23 Aug 1995...|    80|    26|1995|      0|        0|        2|        0|        0|  2|           0|           3|      2|\n",
      "|    2|(Wed) 23 Aug 1995...|   130|   220|1995|      0|        2|        1|        0|        0|  1|           3|           0|      1|\n",
      "|    2|(Wed) 23 Aug 1995...|   137|    63|1995|      0|        0|        0|        0|        0|  0|           1|           1|      3|\n",
      "|    2|(Wed) 23 Aug 1995...|   150|   222|1995|      0|        0|        3|        0|        1|  3|           0|           3|      2|\n",
      "|    2|(Wed) 23 Aug 1995...|   184|    38|1995|      0|        2|        1|        1|        0|  1|           3|           0|      1|\n",
      "|    2|(Wed) 23 Aug 1995...|   198|    28|1995|      0|        0|        1|        0|        0|  1|           0|           3|      2|\n",
      "|    2|(Sat) 26 Aug 1995...|    41|    38|1995|      0|        2|        1|        1|        0|  1|           3|           0|      1|\n",
      "+-----+--------------------+------+------+----+-------+---------+---------+---------+---------+---+------------+------------+-------+\n",
      "only showing top 20 rows\n",
      "\n"
     ]
    }
   ],
   "source": [
    "# data prieview\n",
    "df.show()"
   ]
  },
  {
   "cell_type": "code",
   "execution_count": 43,
   "metadata": {},
   "outputs": [
    {
     "name": "stdout",
     "output_type": "stream",
     "text": [
      "['Round', 'Date', 'Team_1', 'Team_2', 'Year', 'Country', 'FT_Team_1', 'FT_Team_2', 'HT_Team_1', 'HT_Team_2', 'GGD', 'Team_1_(pts)', 'Team_2_(pts)', 'Outcome']\n"
     ]
    }
   ],
   "source": [
    "print(df.columns)"
   ]
  },
  {
   "cell_type": "code",
   "execution_count": 44,
   "metadata": {},
   "outputs": [
    {
     "data": {
      "text/plain": [
       "[('Round', 'int'),\n",
       " ('Date', 'string'),\n",
       " ('Team_1', 'int'),\n",
       " ('Team_2', 'int'),\n",
       " ('Year', 'int'),\n",
       " ('Country', 'int'),\n",
       " ('FT_Team_1', 'int'),\n",
       " ('FT_Team_2', 'int'),\n",
       " ('HT_Team_1', 'int'),\n",
       " ('HT_Team_2', 'int'),\n",
       " ('GGD', 'int'),\n",
       " ('Team_1_(pts)', 'int'),\n",
       " ('Team_2_(pts)', 'int'),\n",
       " ('Outcome', 'int')]"
      ]
     },
     "execution_count": 44,
     "metadata": {},
     "output_type": "execute_result"
    }
   ],
   "source": [
    "# check datatypes\n",
    "# inferschema changes type string to int, creates less work\n",
    "df.dtypes"
   ]
  },
  {
   "cell_type": "code",
   "execution_count": 45,
   "metadata": {},
   "outputs": [
    {
     "name": "stdout",
     "output_type": "stream",
     "text": [
      "+-------+------------------+--------------------+------------------+------------------+------------------+-------+------------------+-----------------+------------------+-------------------+------------------+------------------+------------------+-----------------+\n",
      "|summary|             Round|                Date|            Team_1|            Team_2|              Year|Country|         FT_Team_1|        FT_Team_2|         HT_Team_1|          HT_Team_2|               GGD|      Team_1_(pts)|      Team_2_(pts)|          Outcome|\n",
      "+-------+------------------+--------------------+------------------+------------------+------------------+-------+------------------+-----------------+------------------+-------------------+------------------+------------------+------------------+-----------------+\n",
      "|  count|              9408|                9408|              9408|              9408|              9408|   9408|              9408|             9408|              9408|               9408|              9408|              9408|              9408|             9408|\n",
      "|   mean|19.359268707482993|                null|120.97565901360544|120.97300170068027|2006.8826530612246|    0.0|1.5302933673469388| 1.13031462585034|0.6849489795918368|0.49415391156462585|1.3470450680272108|1.6512542517006803|1.0922619047619047| 1.79156037414966|\n",
      "| stddev|10.923575909881633|                null| 64.04628142307683| 64.05428256865846| 7.147866851679401|    0.0| 1.301942126095858|1.128702723608301|0.8355977100624269| 0.7153407518929787|1.2123306915331147|1.3093268061981036|1.2533750191916087|0.823427170465525|\n",
      "|    min|                 1|(Fri) 10 Apr 1998...|                13|                13|              1995|      0|                 0|                0|                 0|                  0|                 0|                 0|                 0|                1|\n",
      "|    max|                38|(Wed) 9 Sep 1998 ...|               223|               223|              2019|      0|                 9|                9|                 5|                  5|                 9|                 3|                 3|                3|\n",
      "+-------+------------------+--------------------+------------------+------------------+------------------+-------+------------------+-----------------+------------------+-------------------+------------------+------------------+------------------+-----------------+\n",
      "\n",
      "None\n"
     ]
    }
   ],
   "source": [
    "#descriptive summary\n",
    "print(df.describe().show())"
   ]
  },
  {
   "cell_type": "code",
   "execution_count": 46,
   "metadata": {},
   "outputs": [
    {
     "name": "stdout",
     "output_type": "stream",
     "text": [
      "+-------+-----+\n",
      "|Outcome|count|\n",
      "+-------+-----+\n",
      "|      1| 4374|\n",
      "|      3| 2413|\n",
      "|      2| 2621|\n",
      "+-------+-----+\n",
      "\n"
     ]
    }
   ],
   "source": [
    "# Value Count (check if dataSet is balance)\n",
    "df.groupBy('Outcome').count().show()"
   ]
  },
  {
   "cell_type": "markdown",
   "metadata": {},
   "source": [
    "### Feature Engineering\n",
    "* Numericcal values\n",
    "* Vectorization (the process of converting an algorithm from operating on a single value at a time to operating on a set of values (vector) at one time.)\n",
    "* Scaling"
   ]
  },
  {
   "cell_type": "code",
   "execution_count": 47,
   "metadata": {},
   "outputs": [],
   "source": [
    "import pyspark.ml\n",
    "# load Ml packages\n",
    "from pyspark.ml.feature import VectorAssembler, StringIndexer\n"
   ]
  },
  {
   "cell_type": "code",
   "execution_count": 48,
   "metadata": {
    "scrolled": true
   },
   "outputs": [],
   "source": [
    "# 2nd half goals full time - half time\n",
    "df= df.withColumn(\"H2_Team_1\", df['FT_Team_1']-df['HT_Team_1'])\n",
    "df= df.withColumn(\"H2_Team_2\", df['FT_Team_2']-df['HT_Team_2'])"
   ]
  },
  {
   "cell_type": "code",
   "execution_count": 49,
   "metadata": {},
   "outputs": [],
   "source": [
    "#Rename HT to represent 1/2 halves, sorry for the redundency spark beginner\n",
    "df= df.withColumnRenamed('HT_Team_1','H1_Team_1')\n",
    "df= df.withColumnRenamed('HT_Team_2','H1_Team_2')"
   ]
  },
  {
   "cell_type": "code",
   "execution_count": 50,
   "metadata": {},
   "outputs": [],
   "source": [
    "#Goal difference given, creating + for home win and - for away win\n",
    "df= df.withColumn('FT_GD', df['FT_Team_1']-df['FT_Team_2'])\n",
    "df= df.withColumn('H1_GD', df['H1_Team_1']-df['H1_Team_2'])\n",
    "df= df.withColumn('H2_GD', df['FT_GD']-df['H1_GD'])\n",
    "\n"
   ]
  },
  {
   "cell_type": "code",
   "execution_count": 51,
   "metadata": {},
   "outputs": [
    {
     "name": "stdout",
     "output_type": "stream",
     "text": [
      "['Round', 'Date', 'Team_1', 'Team_2', 'Year', 'Country', 'FT_Team_1', 'FT_Team_2', 'H1_Team_1', 'H1_Team_2', 'GGD', 'Team_1_(pts)', 'Team_2_(pts)', 'Outcome', 'H2_Team_1', 'H2_Team_2', 'FT_GD', 'H1_GD', 'H2_GD']\n"
     ]
    }
   ],
   "source": [
    "# addded colums include: \n",
    "#second half goal difference for home and away\n",
    "#Full time goal differnce (displays negative if away team scores more)\n",
    "# goals sccored second half \n",
    "# I thought about stripping the date in this case but i dont find it nesscary since we already have the year to work with, date will get dropped later on.\n",
    "print(df.columns)"
   ]
  },
  {
   "cell_type": "code",
   "execution_count": 52,
   "metadata": {},
   "outputs": [],
   "source": [
    "#rearranging column so the output = outcome is at the end\n",
    "df = df.select('Round', 'Date', 'Team_1', 'Team_2', 'Year', 'Country', 'FT_Team_1', 'FT_Team_2', 'H1_Team_1', 'H1_Team_2', 'GGD', 'Team_1_(pts)', 'Team_2_(pts)', 'H2_Team_1', 'H2_Team_2', 'FT_GD', 'H1_GD', 'H2_GD', 'Outcome')"
   ]
  },
  {
   "cell_type": "code",
   "execution_count": 53,
   "metadata": {},
   "outputs": [
    {
     "name": "stdout",
     "output_type": "stream",
     "text": [
      "+-----+--------------------+------+------+----+-------+---------+---------+---------+---------+---+------------+------------+---------+---------+-----+-----+-----+-------+\n",
      "|Round|                Date|Team_1|Team_2|Year|Country|FT_Team_1|FT_Team_2|H1_Team_1|H1_Team_2|GGD|Team_1_(pts)|Team_2_(pts)|H2_Team_1|H2_Team_2|FT_GD|H1_GD|H2_GD|Outcome|\n",
      "+-----+--------------------+------+------+----+-------+---------+---------+---------+---------+---+------------+------------+---------+---------+-----+-----+-----+-------+\n",
      "|    1|(Sat) 19 Aug 1995...|    28|   130|1995|      0|        3|        1|        3|        0|  2|           3|           0|        0|        1|    2|    3|   -1|      1|\n",
      "|    1|(Sat) 19 Aug 1995...|    38|   150|1995|      0|        1|        0|        1|        0|  1|           3|           0|        0|        0|    1|    1|    0|      1|\n",
      "|    1|(Sat) 19 Aug 1995...|    63|    80|1995|      0|        0|        0|        0|        0|  0|           1|           1|        0|        0|    0|    0|    0|      3|\n",
      "|    1|(Sat) 19 Aug 1995...|   127|   184|1995|      0|        1|        0|        0|        0|  1|           3|           0|        1|        0|    1|    0|    1|      1|\n",
      "|    1|(Sat) 19 Aug 1995...|   129|   198|1995|      0|        1|        1|        0|        1|  0|           1|           1|        1|        0|    0|   -1|    1|      3|\n",
      "+-----+--------------------+------+------+----+-------+---------+---------+---------+---------+---+------------+------------+---------+---------+-----+-----+-----+-------+\n",
      "only showing top 5 rows\n",
      "\n"
     ]
    }
   ],
   "source": [
    "df.show(5)"
   ]
  },
  {
   "cell_type": "markdown",
   "metadata": {},
   "source": [
    "As you can see home and away team have been label enconded already and converted into numbers(this data was worked on before bringinto jupyter notebook, it is not the raw file, all that is left to do is the date column and as I mention above the initial plan was to drop it but month and year(which we already) can be useful."
   ]
  },
  {
   "cell_type": "code",
   "execution_count": 54,
   "metadata": {},
   "outputs": [],
   "source": [
    "# Split the date column to get month, then label encode month\n",
    "from pyspark.sql.functions import split\n",
    "df = df.withColumn('Month', split(df['Date'],' ').getItem(2))"
   ]
  },
  {
   "cell_type": "code",
   "execution_count": 55,
   "metadata": {},
   "outputs": [],
   "source": [
    "# convert the string Month into numbers\n",
    "# label encoding\n",
    "monthEncoder = StringIndexer(inputCol='Month',outputCol='Game_Month').fit(df)"
   ]
  },
  {
   "cell_type": "code",
   "execution_count": 56,
   "metadata": {},
   "outputs": [],
   "source": [
    "df = monthEncoder.transform(df)"
   ]
  },
  {
   "cell_type": "code",
   "execution_count": 57,
   "metadata": {},
   "outputs": [
    {
     "name": "stdout",
     "output_type": "stream",
     "text": [
      "+-----+--------------------+------+------+----+-------+---------+---------+---------+---------+---+------------+------------+---------+---------+-----+-----+-----+-------+-----+----------+\n",
      "|Round|                Date|Team_1|Team_2|Year|Country|FT_Team_1|FT_Team_2|H1_Team_1|H1_Team_2|GGD|Team_1_(pts)|Team_2_(pts)|H2_Team_1|H2_Team_2|FT_GD|H1_GD|H2_GD|Outcome|Month|Game_Month|\n",
      "+-----+--------------------+------+------+----+-------+---------+---------+---------+---------+---+------------+------------+---------+---------+-----+-----+-----+-------+-----+----------+\n",
      "|    1|(Sat) 19 Aug 1995...|    28|   130|1995|      0|        3|        1|        3|        0|  2|           3|           0|        0|        1|    2|    3|   -1|      1|  Aug|       8.0|\n",
      "|    1|(Sat) 19 Aug 1995...|    38|   150|1995|      0|        1|        0|        1|        0|  1|           3|           0|        0|        0|    1|    1|    0|      1|  Aug|       8.0|\n",
      "|    1|(Sat) 19 Aug 1995...|    63|    80|1995|      0|        0|        0|        0|        0|  0|           1|           1|        0|        0|    0|    0|    0|      3|  Aug|       8.0|\n",
      "|    1|(Sat) 19 Aug 1995...|   127|   184|1995|      0|        1|        0|        0|        0|  1|           3|           0|        1|        0|    1|    0|    1|      1|  Aug|       8.0|\n",
      "|    1|(Sat) 19 Aug 1995...|   129|   198|1995|      0|        1|        1|        0|        1|  0|           1|           1|        1|        0|    0|   -1|    1|      3|  Aug|       8.0|\n",
      "+-----+--------------------+------+------+----+-------+---------+---------+---------+---------+---+------------+------------+---------+---------+-----+-----+-----+-------+-----+----------+\n",
      "only showing top 5 rows\n",
      "\n"
     ]
    }
   ],
   "source": [
    "df.show(5)"
   ]
  },
  {
   "cell_type": "code",
   "execution_count": 58,
   "metadata": {},
   "outputs": [
    {
     "data": {
      "text/plain": [
       "['Dec', 'Apr', 'Nov', 'Jan', 'Mar', 'Sep', 'Oct', 'Feb', 'Aug', 'May']"
      ]
     },
     "execution_count": 58,
     "metadata": {},
     "output_type": "execute_result"
    }
   ],
   "source": [
    "#get encoded labels, annoying since labels are not from 0-11 jan-dec\n",
    "monthEncoder.labels"
   ]
  },
  {
   "cell_type": "code",
   "execution_count": 59,
   "metadata": {},
   "outputs": [
    {
     "name": "stdout",
     "output_type": "stream",
     "text": [
      "['Round', 'Date', 'Team_1', 'Team_2', 'Year', 'Country', 'FT_Team_1', 'FT_Team_2', 'H1_Team_1', 'H1_Team_2', 'GGD', 'Team_1_(pts)', 'Team_2_(pts)', 'H2_Team_1', 'H2_Team_2', 'FT_GD', 'H1_GD', 'H2_GD', 'Outcome', 'Month', 'Game_Month']\n"
     ]
    }
   ],
   "source": [
    "print(df.columns)"
   ]
  },
  {
   "cell_type": "code",
   "execution_count": 60,
   "metadata": {},
   "outputs": [],
   "source": [
    "required_features = ['Round', 'Team_1', 'Team_2', 'Year', 'Country', 'FT_Team_1', 'FT_Team_2', 'H1_Team_1', 'H1_Team_2', 'GGD', 'Team_1_(pts)', 'Team_2_(pts)', 'H2_Team_1', 'H2_Team_2', 'FT_GD', 'H1_GD', 'H2_GD', 'Game_Month', 'Outcome']"
   ]
  },
  {
   "cell_type": "code",
   "execution_count": 61,
   "metadata": {},
   "outputs": [],
   "source": [
    "# VectorAssembly\n",
    "vec_assembler = VectorAssembler(inputCols=required_features,outputCol='features')"
   ]
  },
  {
   "cell_type": "code",
   "execution_count": 62,
   "metadata": {},
   "outputs": [],
   "source": [
    "#sticking entire feature required in a vector which I will be using to Model \n",
    "vec_df = vec_assembler.transform(df)"
   ]
  },
  {
   "cell_type": "code",
   "execution_count": 63,
   "metadata": {},
   "outputs": [
    {
     "name": "stdout",
     "output_type": "stream",
     "text": [
      "+-----+--------------------+------+------+----+-------+---------+---------+---------+---------+---+------------+------------+---------+---------+-----+-----+-----+-------+-----+----------+--------------------+\n",
      "|Round|                Date|Team_1|Team_2|Year|Country|FT_Team_1|FT_Team_2|H1_Team_1|H1_Team_2|GGD|Team_1_(pts)|Team_2_(pts)|H2_Team_1|H2_Team_2|FT_GD|H1_GD|H2_GD|Outcome|Month|Game_Month|            features|\n",
      "+-----+--------------------+------+------+----+-------+---------+---------+---------+---------+---+------------+------------+---------+---------+-----+-----+-----+-------+-----+----------+--------------------+\n",
      "|    1|(Sat) 19 Aug 1995...|    28|   130|1995|      0|        3|        1|        3|        0|  2|           3|           0|        0|        1|    2|    3|   -1|      1|  Aug|       8.0|[1.0,28.0,130.0,1...|\n",
      "|    1|(Sat) 19 Aug 1995...|    38|   150|1995|      0|        1|        0|        1|        0|  1|           3|           0|        0|        0|    1|    1|    0|      1|  Aug|       8.0|[1.0,38.0,150.0,1...|\n",
      "|    1|(Sat) 19 Aug 1995...|    63|    80|1995|      0|        0|        0|        0|        0|  0|           1|           1|        0|        0|    0|    0|    0|      3|  Aug|       8.0|(19,[0,1,2,3,10,1...|\n",
      "|    1|(Sat) 19 Aug 1995...|   127|   184|1995|      0|        1|        0|        0|        0|  1|           3|           0|        1|        0|    1|    0|    1|      1|  Aug|       8.0|[1.0,127.0,184.0,...|\n",
      "|    1|(Sat) 19 Aug 1995...|   129|   198|1995|      0|        1|        1|        0|        1|  0|           1|           1|        1|        0|    0|   -1|    1|      3|  Aug|       8.0|[1.0,129.0,198.0,...|\n",
      "|    1|(Sat) 19 Aug 1995...|   135|    65|1995|      0|        3|        0|        1|        0|  3|           3|           0|        2|        0|    3|    1|    2|      1|  Aug|       8.0|[1.0,135.0,65.0,1...|\n",
      "|    1|(Sat) 19 Aug 1995...|   185|   137|1995|      0|        3|        4|        1|        3|  1|           0|           3|        2|        1|   -1|   -2|    1|      2|  Aug|       8.0|[1.0,185.0,137.0,...|\n",
      "|    1|(Sat) 19 Aug 1995...|   220|   123|1995|      0|        1|        2|        1|        0|  1|           0|           3|        0|        2|   -1|    1|   -2|      2|  Aug|       8.0|[1.0,220.0,123.0,...|\n",
      "|    1|(Sat) 19 Aug 1995...|   222|    41|1995|      0|        3|        2|        2|        2|  1|           3|           0|        1|        0|    1|    0|    1|      1|  Aug|       8.0|[1.0,222.0,41.0,1...|\n",
      "|    1|(Sun) 20 Aug 1995...|    26|   131|1995|      0|        1|        1|        1|        1|  0|           1|           1|        0|        0|    0|    0|    0|      3|  Aug|       8.0|[1.0,26.0,131.0,1...|\n",
      "|    2|(Mon) 21 Aug 1995...|   123|   127|1995|      0|        1|        0|        0|        0|  1|           3|           0|        1|        0|    1|    0|    1|      1|  Aug|       8.0|[2.0,123.0,127.0,...|\n",
      "|    2|(Tue) 22 Aug 1995...|    41|   135|1995|      0|        1|        3|        0|        1|  2|           0|           3|        1|        2|   -2|   -1|   -1|      2|  Aug|       8.0|[2.0,41.0,135.0,1...|\n",
      "|    2|(Wed) 23 Aug 1995...|    65|   129|1995|      0|        2|        1|        1|        0|  1|           3|           0|        1|        1|    1|    1|    0|      1|  Aug|       8.0|[2.0,65.0,129.0,1...|\n",
      "|    2|(Wed) 23 Aug 1995...|    80|    26|1995|      0|        0|        2|        0|        0|  2|           0|           3|        0|        2|   -2|    0|   -2|      2|  Aug|       8.0|[2.0,80.0,26.0,19...|\n",
      "|    2|(Wed) 23 Aug 1995...|   130|   220|1995|      0|        2|        1|        0|        0|  1|           3|           0|        2|        1|    1|    0|    1|      1|  Aug|       8.0|[2.0,130.0,220.0,...|\n",
      "|    2|(Wed) 23 Aug 1995...|   137|    63|1995|      0|        0|        0|        0|        0|  0|           1|           1|        0|        0|    0|    0|    0|      3|  Aug|       8.0|(19,[0,1,2,3,10,1...|\n",
      "|    2|(Wed) 23 Aug 1995...|   150|   222|1995|      0|        0|        3|        0|        1|  3|           0|           3|        0|        2|   -3|   -1|   -2|      2|  Aug|       8.0|[2.0,150.0,222.0,...|\n",
      "|    2|(Wed) 23 Aug 1995...|   184|    38|1995|      0|        2|        1|        1|        0|  1|           3|           0|        1|        1|    1|    1|    0|      1|  Aug|       8.0|[2.0,184.0,38.0,1...|\n",
      "|    2|(Wed) 23 Aug 1995...|   198|    28|1995|      0|        0|        1|        0|        0|  1|           0|           3|        0|        1|   -1|    0|   -1|      2|  Aug|       8.0|[2.0,198.0,28.0,1...|\n",
      "|    2|(Sat) 26 Aug 1995...|    41|    38|1995|      0|        2|        1|        1|        0|  1|           3|           0|        1|        1|    1|    1|    0|      1|  Aug|       8.0|[2.0,41.0,38.0,19...|\n",
      "+-----+--------------------+------+------+----+-------+---------+---------+---------+---------+---+------------+------------+---------+---------+-----+-----+-----+-------+-----+----------+--------------------+\n",
      "only showing top 20 rows\n",
      "\n"
     ]
    }
   ],
   "source": [
    "vec_df.show()"
   ]
  },
  {
   "cell_type": "markdown",
   "metadata": {},
   "source": [
    "### Train, Test, Split"
   ]
  },
  {
   "cell_type": "code",
   "execution_count": 64,
   "metadata": {},
   "outputs": [],
   "source": [
    "train_df,test_df = vec_df.randomSplit([0.7,0.3])"
   ]
  },
  {
   "cell_type": "code",
   "execution_count": 65,
   "metadata": {},
   "outputs": [
    {
     "data": {
      "text/plain": [
       "6520"
      ]
     },
     "execution_count": 65,
     "metadata": {},
     "output_type": "execute_result"
    }
   ],
   "source": [
    "train_df.count()"
   ]
  },
  {
   "cell_type": "markdown",
   "metadata": {},
   "source": [
    "### Model Building\n",
    "+ Pyspark.ml: Dataframe\n"
   ]
  },
  {
   "cell_type": "code",
   "execution_count": 66,
   "metadata": {},
   "outputs": [],
   "source": [
    "from pyspark.ml.classification import LogisticRegression "
   ]
  },
  {
   "cell_type": "code",
   "execution_count": 67,
   "metadata": {},
   "outputs": [],
   "source": [
    "# logistic model\n",
    "lr = LogisticRegression(featuresCol='features',labelCol='Outcome')"
   ]
  },
  {
   "cell_type": "code",
   "execution_count": 68,
   "metadata": {},
   "outputs": [],
   "source": [
    "lr_model = lr.fit(train_df)"
   ]
  },
  {
   "cell_type": "code",
   "execution_count": 69,
   "metadata": {},
   "outputs": [],
   "source": [
    "y_pred = lr_model.transform(test_df)"
   ]
  },
  {
   "cell_type": "code",
   "execution_count": 70,
   "metadata": {
    "scrolled": true
   },
   "outputs": [
    {
     "name": "stdout",
     "output_type": "stream",
     "text": [
      "+-----+--------------------+------+------+----+-------+---------+---------+---------+---------+---+------------+------------+---------+---------+-----+-----+-----+-------+-----+----------+--------------------+--------------------+--------------------+----------+\n",
      "|Round|                Date|Team_1|Team_2|Year|Country|FT_Team_1|FT_Team_2|H1_Team_1|H1_Team_2|GGD|Team_1_(pts)|Team_2_(pts)|H2_Team_1|H2_Team_2|FT_GD|H1_GD|H2_GD|Outcome|Month|Game_Month|            features|       rawPrediction|         probability|prediction|\n",
      "+-----+--------------------+------+------+----+-------+---------+---------+---------+---------+---+------------+------------+---------+---------+-----+-----+-----+-------+-----+----------+--------------------+--------------------+--------------------+----------+\n",
      "|    1|(Fri) 11 Aug 2017...|    26|   124|2017|      0|        4|        3|        2|        2|  1|           3|           0|        2|        1|    1|    0|    1|      1|  Aug|       8.0|[1.0,26.0,124.0,2...|[-628.40693778929...|[0.0,1.0,9.626270...|       1.0|\n",
      "|    1|(Mon) 10 Aug 2015...|   219|   129|2015|      0|        0|        3|        0|        2|  3|           0|           3|        0|        1|   -3|   -2|   -1|      2|  Aug|       8.0|[1.0,219.0,129.0,...|[-627.79755928057...|[0.0,1.1119943613...|       2.0|\n",
      "|    1|(Mon) 19 Aug 2002...|   135|   220|2002|      0|        4|        0|        0|        0|  4|           3|           0|        4|        0|    4|    0|    4|      1|  Aug|       8.0|[1.0,135.0,220.0,...|[-623.80941974546...|[0.0,1.0,5.372925...|       1.0|\n",
      "|    1|(Sat) 10 Aug 2019...|    67|    80|2019|      0|        0|        0|        0|        0|  0|           1|           1|        0|        0|    0|    0|    0|      3|  Aug|       8.0|(19,[0,1,2,3,10,1...|[-628.94281199670...|[0.0,1.1233144221...|       3.0|\n",
      "|    1|(Sat) 11 Aug 2007...|    71|   149|2007|      0|        2|        2|        1|        1|  0|           1|           1|        1|        1|    0|    0|    0|      3|  Aug|       8.0|[1.0,71.0,149.0,2...|[-625.31596269836...|[0.0,4.1390756847...|       3.0|\n",
      "|    1|(Sat) 11 Aug 2007...|   193|   198|2007|      0|        1|        0|        0|        0|  1|           3|           0|        1|        0|    1|    0|    1|      1|  Aug|       8.0|[1.0,193.0,198.0,...|[-625.28852800621...|[0.0,1.0,1.558144...|       1.0|\n",
      "|    1|(Sat) 11 Aug 2007...|   220|   129|2007|      0|        0|        2|        0|        1|  2|           0|           3|        0|        1|   -2|   -1|   -1|      2|  Aug|       8.0|[1.0,220.0,129.0,...|[-625.30910218822...|[0.0,3.7223603023...|       2.0|\n",
      "|    1|(Sat) 11 Aug 2018...|    13|    59|2018|      0|        2|        0|        1|        0|  2|           3|           0|        1|        0|    2|    1|    1|      1|  Aug|       8.0|[1.0,13.0,59.0,20...|[-628.63279495177...|[0.0,1.0,3.951659...|       1.0|\n",
      "|    1|(Sat) 11 Aug 2018...|   135|   198|2018|      0|        1|        2|        1|        2|  1|           0|           3|        0|        0|   -1|   -1|    0|      2|  Aug|       8.0|[1.0,135.0,198.0,...|[-628.71020253365...|[0.0,1.8834591570...|       2.0|\n",
      "|    1|(Sat) 12 Aug 2017...|    46|   129|2017|      0|        0|        2|        0|        0|  2|           0|           3|        0|        2|   -2|    0|   -2|      2|  Aug|       8.0|[1.0,46.0,129.0,2...|[-628.35420647851...|[0.0,4.6349473246...|       2.0|\n",
      "|    1|(Sat) 13 Aug 2005...|   131|   127|2005|      0|        0|        0|        0|        0|  0|           1|           1|        0|        0|    0|    0|    0|      3|  Aug|       8.0|(19,[0,1,2,3,10,1...|[-624.64852986195...|[0.0,1.9497280301...|       3.0|\n",
      "|    1|(Sat) 13 Aug 2005...|   149|   198|2005|      0|        0|        2|        0|        1|  2|           0|           3|        0|        1|   -2|   -1|   -1|      2|  Aug|       8.0|[1.0,149.0,198.0,...|[-624.69159778021...|[0.0,1.4270148594...|       2.0|\n",
      "|    1|(Sat) 13 Aug 2005...|   193|    62|2005|      0|        1|        3|        1|        1|  2|           0|           3|        0|        2|   -2|    0|   -2|      2|  Aug|       8.0|[1.0,193.0,62.0,2...|[-624.69950109315...|[0.0,3.1770200805...|       2.0|\n",
      "|    1|(Sat) 13 Aug 2011...|   135|    26|2011|      0|        0|        0|        0|        0|  0|           1|           1|        0|        0|    0|    0|    0|      3|  Aug|       8.0|(19,[0,1,2,3,10,1...|[-626.47719875644...|[0.0,1.0043572632...|       3.0|\n",
      "|    1|(Sat) 13 Aug 2016...|    80|   198|2016|      0|        1|        1|        1|        0|  0|           1|           1|        0|        1|    0|    1|   -1|      3|  Aug|       8.0|[1.0,80.0,198.0,2...|[-628.07763553707...|[0.0,1.8897914914...|       3.0|\n",
      "|    1|(Sat) 14 Aug 2004...|    28|   185|2004|      0|        2|        0|        2|        0|  2|           3|           0|        0|        0|    2|    2|    0|      1|  Aug|       8.0|[1.0,28.0,185.0,2...|[-624.34623382862...|[0.0,1.0,1.368670...|       1.0|\n",
      "|    1|(Sat) 14 Aug 2004...|    38|   219|2004|      0|        1|        1|        0|        1|  0|           1|           1|        1|        0|    0|   -1|    1|      3|  Aug|       8.0|[1.0,38.0,219.0,2...|[-624.36926524361...|[0.0,6.8162916557...|       3.0|\n",
      "|    1|(Sat) 14 Aug 2004...|    41|    62|2004|      0|        4|        1|        2|        0|  3|           3|           0|        2|        1|    3|    2|    1|      1|  Aug|       8.0|[1.0,41.0,62.0,20...|[-624.37350716333...|[0.0,1.0,2.303560...|       1.0|\n",
      "|    1|(Sat) 14 Aug 2004...|   136|    67|2004|      0|        1|        1|        1|        0|  0|           1|           1|        0|        1|    0|    1|   -1|      3|  Aug|       8.0|[1.0,136.0,67.0,2...|[-624.35665849007...|[0.0,2.6001836010...|       3.0|\n",
      "|    1|(Sat) 14 Aug 2004...|   198|   127|2004|      0|        1|        1|        0|        1|  0|           1|           1|        1|        0|    0|   -1|    1|      3|  Aug|       8.0|[1.0,198.0,127.0,...|[-624.38495780133...|[0.0,4.3715439038...|       3.0|\n",
      "+-----+--------------------+------+------+----+-------+---------+---------+---------+---------+---+------------+------------+---------+---------+-----+-----+-----+-------+-----+----------+--------------------+--------------------+--------------------+----------+\n",
      "only showing top 20 rows\n",
      "\n"
     ]
    }
   ],
   "source": [
    "y_pred.show()"
   ]
  },
  {
   "cell_type": "code",
   "execution_count": 71,
   "metadata": {},
   "outputs": [
    {
     "name": "stdout",
     "output_type": "stream",
     "text": [
      "['Round', 'Date', 'Team_1', 'Team_2', 'Year', 'Country', 'FT_Team_1', 'FT_Team_2', 'H1_Team_1', 'H1_Team_2', 'GGD', 'Team_1_(pts)', 'Team_2_(pts)', 'H2_Team_1', 'H2_Team_2', 'FT_GD', 'H1_GD', 'H2_GD', 'Outcome', 'Month', 'Game_Month', 'features', 'rawPrediction', 'probability', 'prediction']\n"
     ]
    }
   ],
   "source": [
    "print (y_pred.columns)"
   ]
  },
  {
   "cell_type": "code",
   "execution_count": 72,
   "metadata": {
    "scrolled": true
   },
   "outputs": [
    {
     "name": "stdout",
     "output_type": "stream",
     "text": [
      "+-------+--------------------+--------------------+----------+\n",
      "|Outcome|       rawPrediction|         probability|prediction|\n",
      "+-------+--------------------+--------------------+----------+\n",
      "|      1|[-628.40693778929...|[0.0,1.0,9.626270...|       1.0|\n",
      "|      2|[-627.79755928057...|[0.0,1.1119943613...|       2.0|\n",
      "|      1|[-623.80941974546...|[0.0,1.0,5.372925...|       1.0|\n",
      "|      3|[-628.94281199670...|[0.0,1.1233144221...|       3.0|\n",
      "|      3|[-625.31596269836...|[0.0,4.1390756847...|       3.0|\n",
      "|      1|[-625.28852800621...|[0.0,1.0,1.558144...|       1.0|\n",
      "|      2|[-625.30910218822...|[0.0,3.7223603023...|       2.0|\n",
      "|      1|[-628.63279495177...|[0.0,1.0,3.951659...|       1.0|\n",
      "|      2|[-628.71020253365...|[0.0,1.8834591570...|       2.0|\n",
      "|      2|[-628.35420647851...|[0.0,4.6349473246...|       2.0|\n",
      "|      3|[-624.64852986195...|[0.0,1.9497280301...|       3.0|\n",
      "|      2|[-624.69159778021...|[0.0,1.4270148594...|       2.0|\n",
      "|      2|[-624.69950109315...|[0.0,3.1770200805...|       2.0|\n",
      "|      3|[-626.47719875644...|[0.0,1.0043572632...|       3.0|\n",
      "|      3|[-628.07763553707...|[0.0,1.8897914914...|       3.0|\n",
      "|      1|[-624.34623382862...|[0.0,1.0,1.368670...|       1.0|\n",
      "|      3|[-624.36926524361...|[0.0,6.8162916557...|       3.0|\n",
      "|      1|[-624.37350716333...|[0.0,1.0,2.303560...|       1.0|\n",
      "|      3|[-624.35665849007...|[0.0,2.6001836010...|       3.0|\n",
      "|      3|[-624.38495780133...|[0.0,4.3715439038...|       3.0|\n",
      "+-------+--------------------+--------------------+----------+\n",
      "only showing top 20 rows\n",
      "\n"
     ]
    }
   ],
   "source": [
    "y_pred.select('Outcome','rawPrediction', 'probability', 'prediction').show()"
   ]
  },
  {
   "cell_type": "markdown",
   "metadata": {},
   "source": [
    "### Model Evaluation"
   ]
  },
  {
   "cell_type": "code",
   "execution_count": 73,
   "metadata": {},
   "outputs": [],
   "source": [
    "from pyspark.ml.evaluation import MulticlassClassificationEvaluator"
   ]
  },
  {
   "cell_type": "code",
   "execution_count": 74,
   "metadata": {},
   "outputs": [],
   "source": [
    "#check accuracy\n",
    "multi_eval = MulticlassClassificationEvaluator(labelCol='Outcome',metricName='accuracy')"
   ]
  },
  {
   "cell_type": "code",
   "execution_count": 75,
   "metadata": {},
   "outputs": [
    {
     "data": {
      "text/plain": [
       "0.9996537396121884"
      ]
     },
     "execution_count": 75,
     "metadata": {},
     "output_type": "execute_result"
    }
   ],
   "source": [
    "multi_eval.evaluate(y_pred)"
   ]
  },
  {
   "cell_type": "code",
   "execution_count": null,
   "metadata": {},
   "outputs": [],
   "source": []
  }
 ],
 "metadata": {
  "kernelspec": {
   "display_name": "Python 3 (ipykernel)",
   "language": "python",
   "name": "python3"
  },
  "language_info": {
   "codemirror_mode": {
    "name": "ipython",
    "version": 3
   },
   "file_extension": ".py",
   "mimetype": "text/x-python",
   "name": "python",
   "nbconvert_exporter": "python",
   "pygments_lexer": "ipython3",
   "version": "3.9.6"
  }
 },
 "nbformat": 4,
 "nbformat_minor": 4
}
