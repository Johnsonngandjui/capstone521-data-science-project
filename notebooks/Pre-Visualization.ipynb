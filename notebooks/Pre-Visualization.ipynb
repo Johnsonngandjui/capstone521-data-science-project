{
 "cells": [
  {
   "cell_type": "code",
   "execution_count": 1,
   "id": "08d2e469",
   "metadata": {},
   "outputs": [],
   "source": [
    "import pandas as pd\n",
    "import seaborn as sns\n",
    "sns.set(color_codes=True)"
   ]
  },
  {
   "cell_type": "code",
   "execution_count": 2,
   "id": "84ad22c3",
   "metadata": {},
   "outputs": [],
   "source": [
    "data= data = pd.read_csv('D:\\Senior\\Capstone\\data-science-enviroment\\data\\BIG FIVE 1995-2019.csv')"
   ]
  },
  {
   "cell_type": "code",
   "execution_count": 3,
   "id": "269941db",
   "metadata": {},
   "outputs": [
    {
     "name": "stdout",
     "output_type": "stream",
     "text": [
      "<class 'pandas.core.frame.DataFrame'>\n",
      "RangeIndex: 44269 entries, 0 to 44268\n",
      "Data columns (total 15 columns):\n",
      " #   Column        Non-Null Count  Dtype \n",
      "---  ------        --------------  ----- \n",
      " 0   Round         44269 non-null  int64 \n",
      " 1   Date          44269 non-null  object\n",
      " 2   Team 1        44269 non-null  object\n",
      " 3   FT            44269 non-null  object\n",
      " 4   HT            44269 non-null  object\n",
      " 5   Team 2        44269 non-null  object\n",
      " 6   Year          44269 non-null  int64 \n",
      " 7   Country       44269 non-null  object\n",
      " 8   FT Team 1     44269 non-null  int64 \n",
      " 9   FT Team 2     44269 non-null  int64 \n",
      " 10  HT Team 1     44269 non-null  int64 \n",
      " 11  HT Team 2     44269 non-null  int64 \n",
      " 12  GGD           44269 non-null  int64 \n",
      " 13  Team 1 (pts)  44269 non-null  int64 \n",
      " 14  Team 2 (pts)  44269 non-null  int64 \n",
      "dtypes: int64(9), object(6)\n",
      "memory usage: 5.1+ MB\n"
     ]
    }
   ],
   "source": [
    "data.info()"
   ]
  },
  {
   "cell_type": "markdown",
   "id": "182d7204",
   "metadata": {},
   "source": []
  }
 ],
 "metadata": {
  "kernelspec": {
   "display_name": "Python 3 (ipykernel)",
   "language": "python",
   "name": "python3"
  },
  "language_info": {
   "codemirror_mode": {
    "name": "ipython",
    "version": 3
   },
   "file_extension": ".py",
   "mimetype": "text/x-python",
   "name": "python",
   "nbconvert_exporter": "python",
   "pygments_lexer": "ipython3",
   "version": "3.9.6"
  }
 },
 "nbformat": 4,
 "nbformat_minor": 5
}
